{
  "nbformat": 4,
  "nbformat_minor": 0,
  "metadata": {
    "colab": {
      "provenance": []
    },
    "kernelspec": {
      "name": "python3",
      "display_name": "Python 3"
    },
    "language_info": {
      "name": "python"
    }
  },
  "cells": [
    {
      "cell_type": "markdown",
      "source": [
        "# The HiddenMarkovModel distribution implements a (batch of) discrete hidden Markov models where the initial states, transition probabilities and observed states are all given by user-provided distributions.\n",
        "\n",
        "\n",
        "---\n",
        "# In this model, there is a sequence of integer-valued hidden states: z[0], z[1], ..., z[num_steps - 1] and a sequence of observed states: x[0], ..., x[num_steps - 1]. The distribution of z[0] is given by initial_distribution. The conditional probability of z[i + 1] given z[i] is described by the batch of distributions in transition_distribution. For a batch of hidden Markov models, the coordinates before the rightmost one of the transition_distribution batch correspond to indices into the hidden Markov model batch. The rightmost coordinate of the batch is used to select which distribution z[i + 1] is drawn from. The distributions corresponding to the probability of z[i + 1] conditional on z[i] == k is given by the elements of the batch whose rightmost coordinate is k. Similarly, the conditional distribution of x[i] given z[i] is given by the batch of observation_distribution. When the rightmost coordinate of observation_distribution is k it gives the conditional probabilities of x[i] given z[i] == k. The probability distribution associated with the HiddenMarkovModel distribution is the marginal distribution of x[0],...,x[num_steps - 1].\n",
        "\n",
        "\n",
        "---\n",
        "\n",
        "# A simple weather model.\n",
        "\n",
        "* Represent a cold day with 0 and a hot day with 1\n",
        "* Suppose the first day of a sequence has a 0.8 chance of being cold.\n",
        "* We can model this using the categorical distribution:\n",
        "\n",
        "```\n",
        "initial_distribution = tfd.Categorical(probs=[0.8, 0.2])\n",
        "\n",
        "```\n",
        "\n",
        "* Suppose a cold day has a 30% chance of being followed by a hot day\n",
        "* and a hot day has a 20% chance of being followed by a cold day.\n",
        "\n",
        "# We can model this as:\n",
        "\n",
        "```\n",
        " transition_distribution = tfd.Categorical(probs=[[0.7, 0.3],\n",
        "                                                 [0.2, 0.8]])\n",
        "\n",
        "```\n",
        "# Suppose additionally that on each day the temperature is\n",
        "* normally distributed with mean and standard deviation 0 and 5 on\n",
        "* a cold day and mean and standard deviation 15 and 10 on a hot day.\n",
        "# We can model this with:\n",
        "\n",
        "\n",
        "\n",
        "```\n",
        "observation_distribution = tfd.Normal(loc=[0., 15.], scale=[5., 10.])\n",
        "\n",
        "```\n",
        "\n",
        "\n"
      ],
      "metadata": {
        "id": "GHT17C9w1D9b"
      }
    },
    {
      "cell_type": "code",
      "source": [
        "import tensorflow as tf\n",
        "import tensorflow_probability as tfp"
      ],
      "metadata": {
        "id": "QZgBi-hD3kPD"
      },
      "execution_count": 14,
      "outputs": []
    },
    {
      "cell_type": "markdown",
      "source": [
        "## A simple weather model.\n",
        "\n",
        "* Represent a cold day with 0 and a hot day with 1.\n",
        "* Suppose the first day of a sequence has a 0.8 chance of being cold.\n",
        "* We can model this using the categorical distribution:"
      ],
      "metadata": {
        "id": "K05fRxwS9uBT"
      }
    },
    {
      "cell_type": "code",
      "source": [
        "tfd = tfp.distributions\n",
        "initial_distribution = tfd.Categorical(probs=[0.8, 0.2])"
      ],
      "metadata": {
        "id": "LG_9GQaY3kx5"
      },
      "execution_count": 15,
      "outputs": []
    },
    {
      "cell_type": "markdown",
      "source": [
        "* Suppose a cold day has a 30% chance of being followed by a hot day\n",
        "* and a hot day has a 20% chance of being followed by a cold day.\n",
        "* We can model this as:"
      ],
      "metadata": {
        "id": "294zy_Oh9kr_"
      }
    },
    {
      "cell_type": "code",
      "source": [
        "transition_distribution = tfd.Categorical(probs=[[0.7, 0.3],\n",
        "                                                 [0.2, 0.8]])"
      ],
      "metadata": {
        "id": "8QEPvP-R3k1e"
      },
      "execution_count": 16,
      "outputs": []
    },
    {
      "cell_type": "markdown",
      "source": [
        "* Suppose additionally that on each day the temperature is\n",
        "* normally distributed with mean and standard deviation 0 and 5 on\n",
        "* a cold day and mean and standard deviation 15 and 10 on a hot day.\n",
        "* We can model this with:"
      ],
      "metadata": {
        "id": "9byPfGkX9aQw"
      }
    },
    {
      "cell_type": "code",
      "source": [
        "observation_distribution = tfd.Normal(loc=[0., 15.], scale=[5., 10.])"
      ],
      "metadata": {
        "id": "7mYCQ_lk3k64"
      },
      "execution_count": 17,
      "outputs": []
    },
    {
      "cell_type": "markdown",
      "source": [
        "* We can combine these distributions into a single week long\n",
        "* hidden Markov model with:"
      ],
      "metadata": {
        "id": "plv9_a0b9TW0"
      }
    },
    {
      "cell_type": "code",
      "source": [
        "model = tfd.HiddenMarkovModel(\n",
        "    initial_distribution=initial_distribution,\n",
        "    transition_distribution=transition_distribution,\n",
        "    observation_distribution=observation_distribution,\n",
        "    num_steps=7)"
      ],
      "metadata": {
        "id": "oEUWncea3k-q"
      },
      "execution_count": 18,
      "outputs": []
    },
    {
      "cell_type": "markdown",
      "source": [
        "# The expected temperatures for each day are given by:"
      ],
      "metadata": {
        "id": "Wi_-mVeB_hK0"
      }
    },
    {
      "cell_type": "code",
      "source": [
        "mean=model.mean()  # shape [7], elements approach 9.0"
      ],
      "metadata": {
        "id": "MzIbfeDL3lRo"
      },
      "execution_count": 19,
      "outputs": []
    },
    {
      "cell_type": "code",
      "source": [
        "with tf.compat.v1.Session() as sess:\n",
        "  print(mean.numpy())"
      ],
      "metadata": {
        "colab": {
          "base_uri": "https://localhost:8080/"
        },
        "id": "ngJG52S__y4G",
        "outputId": "faa07fbe-5ef3-49ae-fdee-0056e7941889"
      },
      "execution_count": 20,
      "outputs": [
        {
          "output_type": "stream",
          "name": "stdout",
          "text": [
            "[3.        5.9999995 7.4999995 8.25      8.625001  8.812501  8.90625  ]\n"
          ]
        }
      ]
    },
    {
      "cell_type": "markdown",
      "source": [
        "# The log pdf of a week of temperature 0 is:\n"
      ],
      "metadata": {
        "id": "SMlMS2Y2_t-Q"
      }
    },
    {
      "cell_type": "code",
      "source": [
        "model.log_prob(tf.zeros(shape=[7]))"
      ],
      "metadata": {
        "colab": {
          "base_uri": "https://localhost:8080/"
        },
        "id": "yVcDudB_3lVL",
        "outputId": "4e5de83c-f07c-4090-bc02-e580e3eed14b"
      },
      "execution_count": 21,
      "outputs": [
        {
          "output_type": "execute_result",
          "data": {
            "text/plain": [
              "<tf.Tensor: shape=(), dtype=float32, numpy=-19.855635>"
            ]
          },
          "metadata": {},
          "execution_count": 21
        }
      ]
    },
    {
      "cell_type": "code",
      "source": [],
      "metadata": {
        "id": "UKGphTLI3lZ9"
      },
      "execution_count": 21,
      "outputs": []
    },
    {
      "cell_type": "code",
      "source": [],
      "metadata": {
        "id": "h5phWpFW3ldm"
      },
      "execution_count": 21,
      "outputs": []
    },
    {
      "cell_type": "code",
      "source": [],
      "metadata": {
        "id": "R3pmtqQf3lh6"
      },
      "execution_count": 21,
      "outputs": []
    },
    {
      "cell_type": "code",
      "source": [],
      "metadata": {
        "id": "AiDcGbBl3lq4"
      },
      "execution_count": 21,
      "outputs": []
    },
    {
      "cell_type": "code",
      "source": [],
      "metadata": {
        "id": "9AeAXTqA3luv"
      },
      "execution_count": 21,
      "outputs": []
    },
    {
      "cell_type": "code",
      "source": [],
      "metadata": {
        "id": "QLGyHG293lzW"
      },
      "execution_count": 21,
      "outputs": []
    },
    {
      "cell_type": "code",
      "source": [],
      "metadata": {
        "id": "5qm05el43kLJ"
      },
      "execution_count": 21,
      "outputs": []
    },
    {
      "cell_type": "code",
      "source": [],
      "metadata": {
        "id": "0uhiJA0P3kGB"
      },
      "execution_count": 21,
      "outputs": []
    },
    {
      "cell_type": "code",
      "source": [],
      "metadata": {
        "id": "RJe-KaM63kCB"
      },
      "execution_count": 21,
      "outputs": []
    },
    {
      "cell_type": "code",
      "source": [],
      "metadata": {
        "id": "MtOnxEVx5Pqg"
      },
      "execution_count": 21,
      "outputs": []
    },
    {
      "cell_type": "code",
      "execution_count": 21,
      "metadata": {
        "id": "UT_l45wx3uBH"
      },
      "outputs": [],
      "source": []
    }
  ]
}